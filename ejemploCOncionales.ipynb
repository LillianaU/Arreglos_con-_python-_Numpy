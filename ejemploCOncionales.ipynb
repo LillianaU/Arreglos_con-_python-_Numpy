{
  "cells": [
    {
      "cell_type": "markdown",
      "metadata": {
        "id": "view-in-github",
        "colab_type": "text"
      },
      "source": [
        "<a href=\"https://colab.research.google.com/github/LillianaU/Arreglos_con-_python-_Numpy/blob/main/ejemploCOncionales.ipynb\" target=\"_parent\"><img src=\"https://colab.research.google.com/assets/colab-badge.svg\" alt=\"Open In Colab\"/></a>"
      ]
    },
    {
      "cell_type": "code",
      "execution_count": null,
      "metadata": {
        "id": "QjAmCdcZDAwu"
      },
      "outputs": [],
      "source": []
    },
    {
      "cell_type": "markdown",
      "metadata": {
        "id": "50prMhxkDQ7F"
      },
      "source": [
        "ejemplo de codigo secuencial o simple\n"
      ]
    },
    {
      "cell_type": "markdown",
      "metadata": {
        "id": "CmiweZQ7DRxk"
      },
      "source": [
        "# ejeplos con IA"
      ]
    },
    {
      "cell_type": "markdown",
      "metadata": {
        "id": "LgPNEY5XDyv8"
      },
      "source": [
        "es ejemplos usando gemini"
      ]
    },
    {
      "cell_type": "code",
      "execution_count": null,
      "metadata": {
        "id": "EXjbq_HLD31E"
      },
      "outputs": [],
      "source": [
        "numero1 = int(input(\"Ingresa el primer número: \"))\n",
        "numero2 = int(input(\"Ingresa el segundo número: \"))\n",
        "\n",
        "suma = numero1 + numero2\n",
        "\n",
        "print(\"La suma de los dos números es:\", suma)"
      ]
    },
    {
      "cell_type": "markdown",
      "metadata": {
        "id": "PzN5G4dpDuIl"
      },
      "source": []
    },
    {
      "cell_type": "markdown",
      "metadata": {
        "id": "SP9QmwiCDikH"
      },
      "source": [
        "Ejemplo casos"
      ]
    },
    {
      "cell_type": "markdown",
      "metadata": {
        "id": "0GSdkJ8UD_AE"
      },
      "source": [
        "es un ejemplo pratico para simular roles"
      ]
    },
    {
      "cell_type": "code",
      "execution_count": null,
      "metadata": {
        "colab": {
          "base_uri": "https://localhost:8080/"
        },
        "id": "pd23NsWqEClM",
        "outputId": "32fd878d-39ea-4d10-8509-38cd3f6ec1eb"
      },
      "outputs": [
        {
          "name": "stdout",
          "output_type": "stream",
          "text": [
            " segun el numero es el rol que de ba mostrar \n",
            "ingrese el numero de opcion: 5\n",
            "no es un rol valido\n"
          ]
        }
      ],
      "source": [
        "print(\" segun el numero es el rol que de ba mostrar \")\n",
        "opcion=int(input(\"ingrese el numero de opcion: \"))\n",
        "\n",
        "match opcion:\n",
        "    case 1:\n",
        "        print(\"es el rol de administrador\")\n",
        "    case 2:\n",
        "        print(\"es el rol de usuario\")\n",
        "    case 3:\n",
        "        print(\"es el rol de invitado\")\n",
        "    case _:\n",
        "        print(\"no es un rol valido\")"
      ]
    },
    {
      "cell_type": "markdown",
      "metadata": {
        "id": "L2u9lOQNEOv1"
      },
      "source": [
        "\n",
        "\n",
        "#  anidados\n",
        "![foto035.jpg](data:image/jpeg;base64,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)\n"
      ]
    },
    {
      "cell_type": "markdown",
      "metadata": {
        "id": "jivhb2MlEsyk"
      },
      "source": [
        "ejemplo de condicional adinado , vimos que son dos tipos  elif y el else"
      ]
    },
    {
      "cell_type": "code",
      "execution_count": null,
      "metadata": {
        "colab": {
          "base_uri": "https://localhost:8080/"
        },
        "id": "gaYLwqbkEsP1",
        "outputId": "20dd6bf7-51df-4cd7-e9aa-6d1f58f294f4"
      },
      "outputs": [
        {
          "name": "stdout",
          "output_type": "stream",
          "text": [
            " segun el numero es el rol que de ba mostrar \n",
            "ingrese el numero de opcion: 3\n",
            "opcion 3 aprendiz\n"
          ]
        }
      ],
      "source": [
        "print(\" segun el numero es el rol que de ba mostrar \")\n",
        "opcion=int(input(\"ingrese el numero de opcion: \"))\n",
        "if opcion == 1:\n",
        "    print(\"opcion 1 administrador\")\n",
        "elif opcion == 2:\n",
        "    print(\"opcion 2 usuario\")\n",
        "elif opcion == 3:\n",
        "    print(\"opcion 3 aprendiz\")\n",
        "else:\n",
        "    print(\"opcion no valida\")\n",
        "\n"
      ]
    },
    {
      "cell_type": "code",
      "execution_count": null,
      "metadata": {
        "colab": {
          "background_save": true,
          "base_uri": "https://localhost:8080/"
        },
        "id": "5TC3LkB9FCHk",
        "outputId": "9cc0ef3f-2029-405e-f150-33d22b324ef8"
      },
      "outputs": [
        {
          "name": "stdout",
          "output_type": "stream",
          "text": [
            " segun el numero es el rol que de ba mostrar \n"
          ]
        }
      ],
      "source": [
        "print(\" segun el numero es el rol que de ba mostrar \")\n",
        "opcion=int(input(\"ingrese el numero de opcion: \"))\n",
        "\n",
        "if opcion== 1:\n",
        "    print(\"el rol es administrador\")\n",
        "else:\n",
        "    if opcion==2:\n",
        "        print(\"el rol es usuario\")\n",
        "    else:\n",
        "        if opcion==3:\n",
        "            print(\"el rol es invitado\")\n",
        "        else:\n",
        "            print(\"el rol no existe\")"
      ]
    },
    {
      "cell_type": "markdown",
      "source": [
        "ejemplo de numpy de python"
      ],
      "metadata": {
        "id": "ZZNaz-PXQPjv"
      }
    },
    {
      "cell_type": "code",
      "source": [
        "import numpy as np\n",
        "# aleas para recortar el nombre de la libreria para eso es un alias\n",
        "# numpy es una libreria para trabajar con arreglos, matrices y vectores\n",
        "# primer ejemplo de uso de numpy con vectores\n",
        "\n",
        "# creamos un vector de 10 elementos\n",
        "vector = np.array([1, 2, 3, 4, 5, 6, 7, 8, 9, 10])\n",
        "# imprimir el vecto\n",
        "print(\"Vector original:\", vector)"
      ],
      "metadata": {
        "colab": {
          "base_uri": "https://localhost:8080/"
        },
        "id": "jN4bwI6OQSHv",
        "outputId": "35dd980a-77fe-4bde-8752-5c3bc4c7e9c7"
      },
      "execution_count": 1,
      "outputs": [
        {
          "output_type": "stream",
          "name": "stdout",
          "text": [
            "Vector original: [ 1  2  3  4  5  6  7  8  9 10]\n"
          ]
        }
      ]
    }
  ],
  "metadata": {
    "colab": {
      "provenance": [],
      "authorship_tag": "ABX9TyMNC3r8ELII+8y26L1qGcLO",
      "include_colab_link": true
    },
    "kernelspec": {
      "display_name": "Python 3",
      "name": "python3"
    },
    "language_info": {
      "name": "python"
    }
  },
  "nbformat": 4,
  "nbformat_minor": 0
}